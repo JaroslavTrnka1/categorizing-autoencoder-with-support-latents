{
 "cells": [
  {
   "cell_type": "code",
   "execution_count": 1,
   "metadata": {},
   "outputs": [],
   "source": [
    "import tensorflow as tf\n",
    "import numpy as np\n",
    "import tensorflow.keras.layers as tfl\n",
    "import tensorflow.keras.activations as activations\n",
    "import matplotlib.pyplot as plt\n",
    "from PIL import Image as im"
   ]
  },
  {
   "cell_type": "code",
   "execution_count": 2,
   "metadata": {},
   "outputs": [],
   "source": [
    "(x_train, y_train), (x_test, y_test) = tf.keras.datasets.mnist.load_data()"
   ]
  },
  {
   "cell_type": "code",
   "execution_count": 3,
   "metadata": {},
   "outputs": [
    {
     "name": "stdout",
     "output_type": "stream",
     "text": [
      "(60000, 28, 28)\n"
     ]
    }
   ],
   "source": [
    "print(x_train.shape)"
   ]
  },
  {
   "cell_type": "code",
   "execution_count": 4,
   "metadata": {},
   "outputs": [
    {
     "name": "stdout",
     "output_type": "stream",
     "text": [
      "(60000, 10)\n"
     ]
    }
   ],
   "source": [
    "y_one_hot = tf.one_hot(y_train.astype('float32'), 10)\n",
    "print(y_one_hot.shape)"
   ]
  },
  {
   "cell_type": "code",
   "execution_count": 5,
   "metadata": {},
   "outputs": [],
   "source": [
    "x_train = x_train.astype('float32')/255\n",
    "x_test = x_test.astype('float32')/255"
   ]
  },
  {
   "cell_type": "code",
   "execution_count": 6,
   "metadata": {},
   "outputs": [],
   "source": [
    "def Categorical_encoder(latent_dimensionality):\n",
    "    \n",
    "    x = tfl.Input(shape = (28,28))\n",
    "    x_flatten = tfl.Flatten()(x)\n",
    "    \n",
    "    x_fp = tfl.Dense(600, activation = 'relu')(x_flatten)\n",
    "    x_fp = tfl.Dense(400, activation = 'relu')(x_fp)\n",
    "    x_fp = tfl.Dense(150, activation = 'relu')(x_fp)\n",
    "    logits = tfl.Dense(latent_dimensionality, activation = 'relu', name = 'logits')(x_fp)\n",
    "    latent_category = tfl.Softmax()(logits[:,:10])\n",
    "    \n",
    "    encoder = tf.keras.Model(inputs = x, outputs = latent_category)\n",
    "    \n",
    "    return encoder\n",
    "\n",
    "def Categorical_decoder(latent_dimensionality):\n",
    "    \n",
    "    latent_category = tfl.Input(shape = (10))\n",
    "    support_latent = tfl.Input(shape = (latent_dimensionality - 10))\n",
    "    \n",
    "    complete_latent = tfl.Concatenate(axis=-1)([latent_category, support_latent])\n",
    "    y = tfl.Dense(150, activation = 'relu')(complete_latent)\n",
    "    y = tfl.Dense(400, activation = 'relu')(y)\n",
    "    y = tfl.Dense(600, activation = 'relu')(y)\n",
    "    y = tfl.Dense(784, activation = 'sigmoid')(y)\n",
    "    y = tfl.Reshape((28,28))(y)\n",
    "    \n",
    "    decoder = tf.keras.Model(inputs = [latent_category, support_latent], outputs = y)\n",
    "    \n",
    "    return decoder"
   ]
  },
  {
   "cell_type": "code",
   "execution_count": 23,
   "metadata": {},
   "outputs": [],
   "source": [
    "def combined_loss():\n",
    "\n",
    "    def loss(y_true,y_pred):\n",
    "\n",
    "        loss_binary_crossentropy =  tf.keras.losses.mean_squared_error(y_true[0], y_pred[0])\n",
    "        latent_categorical_loss = 100 * tf.keras.losses.categorical_crossentropy(y_true[1], y_pred[1])     \n",
    "        \n",
    "        return loss_binary_crossentropy + latent_categorical_loss\n",
    "   \n",
    "    return loss"
   ]
  },
  {
   "cell_type": "code",
   "execution_count": 48,
   "metadata": {},
   "outputs": [],
   "source": [
    "latent_dimensionality = 13   # 10 categorical latent dimensions, the rest of latent_dimensionality are support latents"
   ]
  },
  {
   "cell_type": "code",
   "execution_count": 62,
   "metadata": {},
   "outputs": [],
   "source": [
    "my_encoder = Categorical_encoder(latent_dimensionality)\n",
    "my_decoder = Categorical_decoder(latent_dimensionality)\n",
    "latent_category = my_encoder(my_encoder.inputs)\n",
    "support_latent = my_encoder.get_layer('logits').output[...,10:]\n",
    "support_latent = tf.keras.layers.Activation('sigmoid')(support_latent)\n",
    "reconstructions = my_decoder([latent_category, support_latent])\n",
    "my_autoencoder = tf.keras.Model(inputs = my_encoder.inputs, outputs = [reconstructions, latent_category])"
   ]
  },
  {
   "cell_type": "code",
   "execution_count": 63,
   "metadata": {},
   "outputs": [],
   "source": [
    "my_encoder.compile(loss = 'categorical_crossentropy',  optimizer = 'adam', metrics = ['accuracy'])"
   ]
  },
  {
   "cell_type": "code",
   "execution_count": 75,
   "metadata": {},
   "outputs": [
    {
     "name": "stdout",
     "output_type": "stream",
     "text": [
      "Epoch 1/5\n",
      "600/600 [==============================] - 6s 10ms/step - loss: 0.0479 - accuracy: 0.9861\n",
      "Epoch 2/5\n",
      "600/600 [==============================] - 6s 10ms/step - loss: 0.0155 - accuracy: 0.9950\n",
      "Epoch 3/5\n",
      "600/600 [==============================] - 7s 11ms/step - loss: 0.0110 - accuracy: 0.9966\n",
      "Epoch 4/5\n",
      "600/600 [==============================] - 7s 12ms/step - loss: 0.0117 - accuracy: 0.9959\n",
      "Epoch 5/5\n",
      "600/600 [==============================] - 6s 11ms/step - loss: 0.0107 - accuracy: 0.9967\n"
     ]
    },
    {
     "data": {
      "text/plain": [
       "<keras.callbacks.History at 0x1d89f4319d0>"
      ]
     },
     "execution_count": 75,
     "metadata": {},
     "output_type": "execute_result"
    }
   ],
   "source": [
    "# pretraining encoder for discriminating\n",
    "my_encoder.fit(x = x_train, y = y_one_hot, epochs = 5, batch_size = 100)"
   ]
  },
  {
   "cell_type": "code",
   "execution_count": 65,
   "metadata": {},
   "outputs": [],
   "source": [
    "my_encoder.trainable = True"
   ]
  },
  {
   "cell_type": "code",
   "execution_count": 66,
   "metadata": {},
   "outputs": [
    {
     "name": "stdout",
     "output_type": "stream",
     "text": [
      "Model: \"model_41\"\n",
      "__________________________________________________________________________________________________\n",
      " Layer (type)                   Output Shape         Param #     Connected to                     \n",
      "==================================================================================================\n",
      " input_40 (InputLayer)          [(None, 28, 28)]     0           []                               \n",
      "                                                                                                  \n",
      " flatten_13 (Flatten)           (None, 784)          0           ['input_40[0][0]']               \n",
      "                                                                                                  \n",
      " dense_91 (Dense)               (None, 600)          471000      ['flatten_13[0][0]']             \n",
      "                                                                                                  \n",
      " dense_92 (Dense)               (None, 400)          240400      ['dense_91[0][0]']               \n",
      "                                                                                                  \n",
      " dense_93 (Dense)               (None, 150)          60150       ['dense_92[0][0]']               \n",
      "                                                                                                  \n",
      " logits (Dense)                 (None, 13)           1963        ['dense_93[0][0]']               \n",
      "                                                                                                  \n",
      " tf.__operators__.getitem_27 (S  (None, 3)           0           ['logits[0][0]']                 \n",
      " licingOpLambda)                                                                                  \n",
      "                                                                                                  \n",
      " model_39 (Functional)          (None, 10)           773513      ['input_40[0][0]']               \n",
      "                                                                                                  \n",
      " activation_13 (Activation)     (None, 3)            0           ['tf.__operators__.getitem_27[0][\n",
      "                                                                 0]']                             \n",
      "                                                                                                  \n",
      " model_40 (Functional)          (None, 28, 28)       774284      ['model_39[0][0]',               \n",
      "                                                                  'activation_13[0][0]']          \n",
      "                                                                                                  \n",
      "==================================================================================================\n",
      "Total params: 1,547,797\n",
      "Trainable params: 1,547,797\n",
      "Non-trainable params: 0\n",
      "__________________________________________________________________________________________________\n"
     ]
    }
   ],
   "source": [
    "my_autoencoder.summary()"
   ]
  },
  {
   "cell_type": "code",
   "execution_count": 67,
   "metadata": {},
   "outputs": [],
   "source": [
    "my_autoencoder.compile(loss = combined_loss(), optimizer = 'adam', metrics = ['accuracy'])"
   ]
  },
  {
   "cell_type": "code",
   "execution_count": 76,
   "metadata": {},
   "outputs": [
    {
     "name": "stdout",
     "output_type": "stream",
     "text": [
      "Epoch 1/10\n",
      "600/600 [==============================] - 17s 28ms/step - loss: 965.9139 - model_40_loss: 961.6525 - model_39_loss: 4.2617 - model_40_accuracy: 0.1176 - model_39_accuracy: 0.9830\n",
      "Epoch 2/10\n",
      "600/600 [==============================] - 18s 30ms/step - loss: 1009.4271 - model_40_loss: 972.3973 - model_39_loss: 37.0290 - model_40_accuracy: 0.1187 - model_39_accuracy: 0.9233\n",
      "Epoch 3/10\n",
      "600/600 [==============================] - 16s 27ms/step - loss: 1001.9600 - model_40_loss: 962.4214 - model_39_loss: 39.5388 - model_40_accuracy: 0.1194 - model_39_accuracy: 0.9179\n",
      "Epoch 4/10\n",
      "600/600 [==============================] - 16s 27ms/step - loss: 971.6179 - model_40_loss: 940.8450 - model_39_loss: 30.7727 - model_40_accuracy: 0.1222 - model_39_accuracy: 0.9347\n",
      "Epoch 5/10\n",
      "600/600 [==============================] - 16s 27ms/step - loss: 967.7651 - model_40_loss: 934.6597 - model_39_loss: 33.1054 - model_40_accuracy: 0.1239 - model_39_accuracy: 0.9372\n",
      "Epoch 6/10\n",
      "600/600 [==============================] - 16s 27ms/step - loss: 1003.7924 - model_40_loss: 976.6523 - model_39_loss: 27.1399 - model_40_accuracy: 0.1281 - model_39_accuracy: 0.9401\n",
      "Epoch 7/10\n",
      "600/600 [==============================] - 17s 28ms/step - loss: 965.6990 - model_40_loss: 944.9286 - model_39_loss: 20.7706 - model_40_accuracy: 0.1291 - model_39_accuracy: 0.9486\n",
      "Epoch 8/10\n",
      "600/600 [==============================] - 16s 27ms/step - loss: 955.5628 - model_40_loss: 924.5008 - model_39_loss: 31.0619 - model_40_accuracy: 0.1292 - model_39_accuracy: 0.9368\n",
      "Epoch 9/10\n",
      "600/600 [==============================] - 16s 27ms/step - loss: 967.2083 - model_40_loss: 941.8654 - model_39_loss: 25.3426 - model_40_accuracy: 0.1363 - model_39_accuracy: 0.9408\n",
      "Epoch 10/10\n",
      "600/600 [==============================] - 16s 27ms/step - loss: 968.3015 - model_40_loss: 947.9487 - model_39_loss: 20.3528 - model_40_accuracy: 0.1327 - model_39_accuracy: 0.9425\n"
     ]
    },
    {
     "data": {
      "text/plain": [
       "<keras.callbacks.History at 0x1d897e68d00>"
      ]
     },
     "execution_count": 76,
     "metadata": {},
     "output_type": "execute_result"
    }
   ],
   "source": [
    "my_autoencoder.fit(x = x_train, y = [x_train, y_one_hot], epochs = 10, batch_size = 100)"
   ]
  },
  {
   "cell_type": "code",
   "execution_count": 81,
   "metadata": {},
   "outputs": [],
   "source": [
    "sample = 10"
   ]
  },
  {
   "cell_type": "code",
   "execution_count": 82,
   "metadata": {},
   "outputs": [
    {
     "name": "stdout",
     "output_type": "stream",
     "text": [
      "Sample: 10\n",
      "1/1 [==============================] - 0s 23ms/step\n"
     ]
    },
    {
     "data": {
      "image/png": "[encoded data removed]",
      "text/plain": [
       "<Figure size 432x288 with 2 Axes>"
      ]
     },
     "metadata": {
      "needs_background": "light"
     },
     "output_type": "display_data"
    }
   ],
   "source": [
    "print('Sample: ' + str(sample))\n",
    "task = x_train[sample,:,:].reshape(1,28,28)\n",
    "tip = my_autoencoder.predict(task)\n",
    "tip = tip[0]\n",
    "task_img = im.fromarray(255 * task.reshape(28,28))\n",
    "tip_img = im.fromarray(255 * tip.reshape(28,28))\n",
    "plt.subplot(1, 2, 1)\n",
    "plt.imshow(task_img)\n",
    "plt.subplot(1, 2, 2)\n",
    "plt.imshow(tip_img)\n",
    "plt.show() \n",
    "sample += 1"
   ]
  },
  {
   "cell_type": "code",
   "execution_count": 73,
   "metadata": {},
   "outputs": [
    {
     "name": "stdout",
     "output_type": "stream",
     "text": [
      "1/1 [==============================] - 0s 145ms/step\n",
      "1/1 [==============================] - 0s 98ms/step\n",
      "1/1 [==============================] - 0s 168ms/step\n"
     ]
    },
    {
     "data": {
      "image/png": "[encoded data removed]",
      "text/plain": [
       "<Figure size 432x288 with 1 Axes>"
      ]
     },
     "metadata": {
      "needs_background": "light"
     },
     "output_type": "display_data"
    },
    {
     "name": "stdout",
     "output_type": "stream",
     "text": [
      "1/1 [==============================] - 0s 103ms/step\n"
     ]
    },
    {
     "data": {
      "image/png": "[encoded data removed]",
      "text/plain": [
       "<Figure size 432x288 with 1 Axes>"
      ]
     },
     "metadata": {
      "needs_background": "light"
     },
     "output_type": "display_data"
    },
    {
     "name": "stdout",
     "output_type": "stream",
     "text": [
      "1/1 [==============================] - 0s 54ms/step\n"
     ]
    },
    {
     "data": {
      "image/png": "[encoded data removed]",
      "text/plain": [
       "<Figure size 432x288 with 1 Axes>"
      ]
     },
     "metadata": {
      "needs_background": "light"
     },
     "output_type": "display_data"
    },
    {
     "name": "stdout",
     "output_type": "stream",
     "text": [
      "1/1 [==============================] - 0s 45ms/step\n"
     ]
    },
    {
     "data": {
      "image/png": "[encoded data removed]",
      "text/plain": [
       "<Figure size 432x288 with 1 Axes>"
      ]
     },
     "metadata": {
      "needs_background": "light"
     },
     "output_type": "display_data"
    },
    {
     "name": "stdout",
     "output_type": "stream",
     "text": [
      "1/1 [==============================] - 0s 60ms/step\n"
     ]
    },
    {
     "data": {
      "image/png": "[encoded data removed]",
      "text/plain": [
       "<Figure size 432x288 with 1 Axes>"
      ]
     },
     "metadata": {
      "needs_background": "light"
     },
     "output_type": "display_data"
    },
    {
     "name": "stdout",
     "output_type": "stream",
     "text": [
      "1/1 [==============================] - 0s 24ms/step\n"
     ]
    },
    {
     "data": {
      "image/png": "[encoded data removed]",
      "text/plain": [
       "<Figure size 432x288 with 1 Axes>"
      ]
     },
     "metadata": {
      "needs_background": "light"
     },
     "output_type": "display_data"
    }
   ],
   "source": [
    "task1 = x_train[8,:,:].reshape(1,28,28)\n",
    "task2 = x_train[22,:,:].reshape(1,28,28)\n",
    "my_code1 = my_encoder.predict(task1)\n",
    "my_code2 = my_encoder.predict(task2)\n",
    "\n",
    "support_latent = tf.zeros([1,latent_dimensionality - 10])\n",
    "\n",
    "steps = 6\n",
    "step = (my_code1 - my_code2) / steps\n",
    "\n",
    "latent_code = my_code1\n",
    "\n",
    "for mutation in range(steps):\n",
    "    my_tip = my_decoder.predict([latent_code, support_latent])\n",
    "    my_tip_img = im.fromarray(255 * my_tip.reshape(28,28))\n",
    "    plt.imshow(my_tip_img)\n",
    "    plt.show()\n",
    "    latent_code -= step"
   ]
  },
  {
   "cell_type": "code",
   "execution_count": 83,
   "metadata": {},
   "outputs": [
    {
     "name": "stdout",
     "output_type": "stream",
     "text": [
      "1/1 [==============================] - 0s 25ms/step\n",
      "1/1 [==============================] - 0s 23ms/step\n",
      "1/1 [==============================] - 0s 22ms/step\n",
      "1/1 [==============================] - 0s 23ms/step\n",
      "1/1 [==============================] - 0s 23ms/step\n",
      "1/1 [==============================] - 0s 23ms/step\n",
      "1/1 [==============================] - 0s 22ms/step\n",
      "1/1 [==============================] - 0s 25ms/step\n",
      "1/1 [==============================] - 0s 23ms/step\n",
      "1/1 [==============================] - 0s 23ms/step\n"
     ]
    },
    {
     "data": {
      "image/png": "[encoded data removed]",
      "text/plain": [
       "<Figure size 432x288 with 10 Axes>"
      ]
     },
     "metadata": {
      "needs_background": "light"
     },
     "output_type": "display_data"
    }
   ],
   "source": [
    "for i in range (10):\n",
    "    latent_cat = tf.reshape(tf.one_hot(i, 10), (1,-1))\n",
    "    null_support_latent = tf.zeros([1,latent_dimensionality - 10])\n",
    "    latent_idea = my_decoder.predict([latent_cat, null_support_latent])\n",
    "    latent_idea = latent_idea[0]\n",
    "    latent_img = im.fromarray(255 * latent_idea.reshape(28,28))\n",
    "    plt.subplot(4, 3, i + 1)\n",
    "    plt.imshow(latent_img)\n",
    "plt.show()"
   ]
  },
  {
   "cell_type": "code",
   "execution_count": null,
   "metadata": {},
   "outputs": [],
   "source": []
  }
 ],
 "metadata": {
  "kernelspec": {
   "display_name": "Python 3",
   "language": "python",
   "name": "python3"
  },
  "language_info": {
   "codemirror_mode": {
    "name": "ipython",
    "version": 3
   },
   "file_extension": ".py",
   "mimetype": "text/x-python",
   "name": "python",
   "nbconvert_exporter": "python",
   "pygments_lexer": "ipython3",
   "version": "3.8.5"
  }
 },
 "nbformat": 4,
 "nbformat_minor": 4
}
